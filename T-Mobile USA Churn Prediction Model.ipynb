{
 "cells": [
  {
   "cell_type": "code",
   "execution_count": 18,
   "id": "2e1168af",
   "metadata": {
    "scrolled": false
   },
   "outputs": [
    {
     "name": "stdout",
     "output_type": "stream",
     "text": [
      "Dataset Head:\n",
      "   CustomerID  Count_x        Country       State         City  Zip Code  \\\n",
      "0  3668-QPYBK        1  United States  California  Los Angeles     90003   \n",
      "1  9237-HQITU        1  United States  California  Los Angeles     90005   \n",
      "2  9305-CDSKC        1  United States  California  Los Angeles     90006   \n",
      "3  7892-POOKP        1  United States  California  Los Angeles     90010   \n",
      "4  0280-XJGEX        1  United States  California  Los Angeles     90015   \n",
      "\n",
      "                 Lat Long   Latitude   Longitude Gender_x  ...  CLTV  \\\n",
      "0  33.964131, -118.272783  33.964131 -118.272783     Male  ...  3239   \n",
      "1   34.059281, -118.30742  34.059281 -118.307420   Female  ...  2701   \n",
      "2  34.048013, -118.293953  34.048013 -118.293953   Female  ...  5372   \n",
      "3  34.062125, -118.315709  34.062125 -118.315709   Female  ...  5003   \n",
      "4  34.039224, -118.266293  34.039224 -118.266293     Male  ...  5340   \n",
      "\n",
      "                    Churn Reason Count_y  Gender_y Age Under 30  \\\n",
      "0   Competitor made better offer       1      Male  37       No   \n",
      "1                          Moved       1    Female  19      Yes   \n",
      "2                          Moved       1    Female  31       No   \n",
      "3                          Moved       1    Female  23      Yes   \n",
      "4  Competitor had better devices       1      Male  38       No   \n",
      "\n",
      "  Senior Citizen_y Married Dependents_y Number of Dependents  \n",
      "0               No      No           No                    0  \n",
      "1               No      No          Yes                    2  \n",
      "2               No      No          Yes                    2  \n",
      "3               No     Yes          Yes                    3  \n",
      "4               No      No          Yes                    1  \n",
      "\n",
      "[5 rows x 41 columns]\n",
      "\n",
      "Dataset Info:\n",
      "<class 'pandas.core.frame.DataFrame'>\n",
      "RangeIndex: 7043 entries, 0 to 7042\n",
      "Data columns (total 41 columns):\n",
      " #   Column                Non-Null Count  Dtype  \n",
      "---  ------                --------------  -----  \n",
      " 0   CustomerID            7043 non-null   object \n",
      " 1   Count_x               7043 non-null   int64  \n",
      " 2   Country               7043 non-null   object \n",
      " 3   State                 7043 non-null   object \n",
      " 4   City                  7043 non-null   object \n",
      " 5   Zip Code              7043 non-null   int64  \n",
      " 6   Lat Long              7043 non-null   object \n",
      " 7   Latitude              7043 non-null   float64\n",
      " 8   Longitude             7043 non-null   float64\n",
      " 9   Gender_x              7043 non-null   object \n",
      " 10  Senior Citizen_x      7043 non-null   object \n",
      " 11  Partner               7043 non-null   object \n",
      " 12  Dependents_x          7043 non-null   object \n",
      " 13  Tenure Months         7043 non-null   int64  \n",
      " 14  Phone Service         7043 non-null   object \n",
      " 15  Multiple Lines        7043 non-null   object \n",
      " 16  Internet Service      7043 non-null   object \n",
      " 17  Online Security       7043 non-null   object \n",
      " 18  Online Backup         7043 non-null   object \n",
      " 19  Device Protection     7043 non-null   object \n",
      " 20  Tech Support          7043 non-null   object \n",
      " 21  Streaming TV          7043 non-null   object \n",
      " 22  Streaming Movies      7043 non-null   object \n",
      " 23  Contract              7043 non-null   object \n",
      " 24  Paperless Billing     7043 non-null   object \n",
      " 25  Payment Method        7043 non-null   object \n",
      " 26  Monthly Charges       7043 non-null   float64\n",
      " 27  Total Charges         7043 non-null   object \n",
      " 28  Churn Label           7043 non-null   object \n",
      " 29  Churn Value           7043 non-null   int64  \n",
      " 30  Churn Score           7043 non-null   int64  \n",
      " 31  CLTV                  7043 non-null   int64  \n",
      " 32  Churn Reason          1869 non-null   object \n",
      " 33  Count_y               7043 non-null   int64  \n",
      " 34  Gender_y              7043 non-null   object \n",
      " 35  Age                   7043 non-null   int64  \n",
      " 36  Under 30              7043 non-null   object \n",
      " 37  Senior Citizen_y      7043 non-null   object \n",
      " 38  Married               7043 non-null   object \n",
      " 39  Dependents_y          7043 non-null   object \n",
      " 40  Number of Dependents  7043 non-null   int64  \n",
      "dtypes: float64(3), int64(9), object(29)\n",
      "memory usage: 2.2+ MB\n",
      "\n",
      "Dataset Description:\n",
      "       Count_x      Zip Code     Latitude    Longitude  Tenure Months  \\\n",
      "count   7043.0   7043.000000  7043.000000  7043.000000    7043.000000   \n",
      "mean       1.0  93521.964646    36.282441  -119.798880      32.371149   \n",
      "std        0.0   1865.794555     2.455723     2.157889      24.559481   \n",
      "min        1.0  90001.000000    32.555828  -124.301372       0.000000   \n",
      "25%        1.0  92102.000000    34.030915  -121.815412       9.000000   \n",
      "50%        1.0  93552.000000    36.391777  -119.730885      29.000000   \n",
      "75%        1.0  95351.000000    38.224869  -118.043237      55.000000   \n",
      "max        1.0  96161.000000    41.962127  -114.192901      72.000000   \n",
      "\n",
      "       Monthly Charges  Churn Value  Churn Score         CLTV  Count_y  \\\n",
      "count      7043.000000  7043.000000  7043.000000  7043.000000   7043.0   \n",
      "mean         64.761692     0.265370    58.699418  4400.295755      1.0   \n",
      "std          30.090047     0.441561    21.525131  1183.057152      0.0   \n",
      "min          18.250000     0.000000     5.000000  2003.000000      1.0   \n",
      "25%          35.500000     0.000000    40.000000  3469.000000      1.0   \n",
      "50%          70.350000     0.000000    61.000000  4527.000000      1.0   \n",
      "75%          89.850000     1.000000    75.000000  5380.500000      1.0   \n",
      "max         118.750000     1.000000   100.000000  6500.000000      1.0   \n",
      "\n",
      "               Age  Number of Dependents  \n",
      "count  7043.000000           7043.000000  \n",
      "mean     46.509726              0.468692  \n",
      "std      16.750352              0.962802  \n",
      "min      19.000000              0.000000  \n",
      "25%      32.000000              0.000000  \n",
      "50%      46.000000              0.000000  \n",
      "75%      60.000000              0.000000  \n",
      "max      80.000000              9.000000  \n"
     ]
    }
   ],
   "source": [
    "# BAN6800 Module 4 Assignment: Customer Churn Prediction Model for T-Mobile USA\n",
    "# Name: Onimisi David Adidi\n",
    "# Learner ID: 149525\n",
    "\n",
    "# Step 1: Import Libraries and Load Data\n",
    "import pandas as pd\n",
    "import numpy as np\n",
    "from sklearn.model_selection import train_test_split\n",
    "from sklearn.ensemble import RandomForestClassifier\n",
    "from sklearn.linear_model import LogisticRegression\n",
    "from sklearn.metrics import classification_report, roc_auc_score, confusion_matrix\n",
    "import matplotlib.pyplot as plt\n",
    "import seaborn as sns\n",
    "\n",
    "# Load dataset\n",
    "file_path = 'C:\\\\Users\\\\DELL\\\\Python\\\\.venv\\\\cleaned_customer_data.csv'\n",
    "data = pd.read_csv(file_path)\n",
    "\n",
    "# Display basic information about the dataset\n",
    "print(\"Dataset Head:\")\n",
    "print(data.head())\n",
    "print(\"\\nDataset Info:\")\n",
    "data.info()\n",
    "print(\"\\nDataset Description:\")\n",
    "print(data.describe())"
   ]
  },
  {
   "cell_type": "code",
   "execution_count": 8,
   "id": "b174fc31",
   "metadata": {},
   "outputs": [
    {
     "data": {
      "text/plain": [
       "0    1525\n",
       "1     588\n",
       "Name: Churn Value, dtype: int64"
      ]
     },
     "execution_count": 8,
     "metadata": {},
     "output_type": "execute_result"
    }
   ],
   "source": [
    "# Step 2: Define Target and Features\n",
    "target = 'Churn Value'\n",
    "features = data.drop(columns=[target]).columns\n",
    "\n",
    "X = data[features]\n",
    "y = data[target]\n",
    "\n",
    "# Convert categorical variables to dummy/indicator variables\n",
    "X = pd.get_dummies(X, drop_first=True)  # One-hot encoding\n",
    "\n",
    "# Split the data into training and testing sets\n",
    "X_train, X_test, y_train, y_test = train_test_split(X, y, test_size=0.3, random_state=42)\n",
    "\n",
    "# View counts of training and testing datasets\n",
    "y_train.value_counts()\n",
    "y_test.value_counts()"
   ]
  },
  {
   "cell_type": "code",
   "execution_count": 11,
   "id": "f29e2e3d",
   "metadata": {},
   "outputs": [
    {
     "name": "stdout",
     "output_type": "stream",
     "text": [
      "Found existing installation: scikit-learn 1.6.1\n",
      "Uninstalling scikit-learn-1.6.1:\n",
      "  Successfully uninstalled scikit-learn-1.6.1\n",
      "Found existing installation: imblearn 0.0\n",
      "Uninstalling imblearn-0.0:\n",
      "  Successfully uninstalled imblearn-0.0\n",
      "Collecting scikit-learn==1.3.2\n",
      "  Obtaining dependency information for scikit-learn==1.3.2 from https://files.pythonhosted.org/packages/4e/ba/ce9bd1cd4953336a0e213b29cb80bb11816f2a93de8c99f88ef0b446ad0c/scikit_learn-1.3.2-cp311-cp311-win_amd64.whl.metadata\n",
      "  Using cached scikit_learn-1.3.2-cp311-cp311-win_amd64.whl.metadata (11 kB)\n",
      "Requirement already satisfied: numpy<2.0,>=1.17.3 in c:\\users\\dell\\anaconda3\\lib\\site-packages (from scikit-learn==1.3.2) (1.24.3)\n",
      "Requirement already satisfied: scipy>=1.5.0 in c:\\users\\dell\\anaconda3\\lib\\site-packages (from scikit-learn==1.3.2) (1.10.1)\n",
      "Requirement already satisfied: joblib>=1.1.1 in c:\\users\\dell\\anaconda3\\lib\\site-packages (from scikit-learn==1.3.2) (1.2.0)\n",
      "Requirement already satisfied: threadpoolctl>=2.0.0 in c:\\users\\dell\\anaconda3\\lib\\site-packages (from scikit-learn==1.3.2) (3.5.0)\n",
      "Using cached scikit_learn-1.3.2-cp311-cp311-win_amd64.whl (9.2 MB)\n",
      "Installing collected packages: scikit-learn\n",
      "Successfully installed scikit-learn-1.3.2\n",
      "Collecting imblearn\n",
      "  Obtaining dependency information for imblearn from https://files.pythonhosted.org/packages/81/a7/4179e6ebfd654bd0eac0b9c06125b8b4c96a9d0a8ff9e9507eb2a26d2d7e/imblearn-0.0-py2.py3-none-any.whl.metadata\n",
      "  Using cached imblearn-0.0-py2.py3-none-any.whl.metadata (355 bytes)\n",
      "Requirement already satisfied: imbalanced-learn in c:\\users\\dell\\anaconda3\\lib\\site-packages (from imblearn) (0.13.0)\n",
      "Requirement already satisfied: numpy<3,>=1.24.3 in c:\\users\\dell\\anaconda3\\lib\\site-packages (from imbalanced-learn->imblearn) (1.24.3)\n",
      "Requirement already satisfied: scipy<2,>=1.10.1 in c:\\users\\dell\\anaconda3\\lib\\site-packages (from imbalanced-learn->imblearn) (1.10.1)\n",
      "Requirement already satisfied: scikit-learn<2,>=1.3.2 in c:\\users\\dell\\anaconda3\\lib\\site-packages (from imbalanced-learn->imblearn) (1.3.2)\n",
      "Requirement already satisfied: sklearn-compat<1,>=0.1 in c:\\users\\dell\\anaconda3\\lib\\site-packages (from imbalanced-learn->imblearn) (0.1.3)\n",
      "Requirement already satisfied: joblib<2,>=1.1.1 in c:\\users\\dell\\anaconda3\\lib\\site-packages (from imbalanced-learn->imblearn) (1.2.0)\n",
      "Requirement already satisfied: threadpoolctl<4,>=2.0.0 in c:\\users\\dell\\anaconda3\\lib\\site-packages (from imbalanced-learn->imblearn) (3.5.0)\n",
      "Using cached imblearn-0.0-py2.py3-none-any.whl (1.9 kB)\n",
      "Installing collected packages: imblearn\n",
      "Successfully installed imblearn-0.0\n"
     ]
    }
   ],
   "source": [
    "# If you look at this data, the total churned customers is roughly 28% - \n",
    "# which means already 28% of a class total whose prediction would be on interest(churned) is not in the data while 72% of the data does not include any churning. \n",
    "# This is a problem = we have a class imbalance and our prediction is already biased even before we develop the predictio model.\n",
    "\n",
    "# This can be corrected using SMOTE\n",
    "!pip uninstall scikit-learn --yes\n",
    "!pip uninstall imblearn --yes\n",
    "!pip install scikit-learn==1.3.2\n",
    "!pip install imblearn"
   ]
  },
  {
   "cell_type": "code",
   "execution_count": 14,
   "id": "99d3a6a4",
   "metadata": {},
   "outputs": [],
   "source": [
    "from imblearn.over_sampling import SMOTE\n",
    "\n",
    "smote=SMOTE()\n",
    "X_smote, y_smote=smote.fit_resample(X_train,y_train)\n",
    "X_train, y_train = X_smote, y_smote\n",
    "\n",
    "# Scale the features\n",
    "# Import StandardScaler\n",
    "from sklearn.preprocessing import StandardScaler\n",
    "\n",
    "# Initialize the scaler\n",
    "scaler = StandardScaler()\n",
    "X_train_scaled = scaler.fit_transform(X_train)\n",
    "X_test_scaled = scaler.transform(X_test)"
   ]
  },
  {
   "cell_type": "code",
   "execution_count": 15,
   "id": "d60a0e53",
   "metadata": {},
   "outputs": [
    {
     "data": {
      "text/html": [
       "<style>#sk-container-id-1 {color: black;}#sk-container-id-1 pre{padding: 0;}#sk-container-id-1 div.sk-toggleable {background-color: white;}#sk-container-id-1 label.sk-toggleable__label {cursor: pointer;display: block;width: 100%;margin-bottom: 0;padding: 0.3em;box-sizing: border-box;text-align: center;}#sk-container-id-1 label.sk-toggleable__label-arrow:before {content: \"▸\";float: left;margin-right: 0.25em;color: #696969;}#sk-container-id-1 label.sk-toggleable__label-arrow:hover:before {color: black;}#sk-container-id-1 div.sk-estimator:hover label.sk-toggleable__label-arrow:before {color: black;}#sk-container-id-1 div.sk-toggleable__content {max-height: 0;max-width: 0;overflow: hidden;text-align: left;background-color: #f0f8ff;}#sk-container-id-1 div.sk-toggleable__content pre {margin: 0.2em;color: black;border-radius: 0.25em;background-color: #f0f8ff;}#sk-container-id-1 input.sk-toggleable__control:checked~div.sk-toggleable__content {max-height: 200px;max-width: 100%;overflow: auto;}#sk-container-id-1 input.sk-toggleable__control:checked~label.sk-toggleable__label-arrow:before {content: \"▾\";}#sk-container-id-1 div.sk-estimator input.sk-toggleable__control:checked~label.sk-toggleable__label {background-color: #d4ebff;}#sk-container-id-1 div.sk-label input.sk-toggleable__control:checked~label.sk-toggleable__label {background-color: #d4ebff;}#sk-container-id-1 input.sk-hidden--visually {border: 0;clip: rect(1px 1px 1px 1px);clip: rect(1px, 1px, 1px, 1px);height: 1px;margin: -1px;overflow: hidden;padding: 0;position: absolute;width: 1px;}#sk-container-id-1 div.sk-estimator {font-family: monospace;background-color: #f0f8ff;border: 1px dotted black;border-radius: 0.25em;box-sizing: border-box;margin-bottom: 0.5em;}#sk-container-id-1 div.sk-estimator:hover {background-color: #d4ebff;}#sk-container-id-1 div.sk-parallel-item::after {content: \"\";width: 100%;border-bottom: 1px solid gray;flex-grow: 1;}#sk-container-id-1 div.sk-label:hover label.sk-toggleable__label {background-color: #d4ebff;}#sk-container-id-1 div.sk-serial::before {content: \"\";position: absolute;border-left: 1px solid gray;box-sizing: border-box;top: 0;bottom: 0;left: 50%;z-index: 0;}#sk-container-id-1 div.sk-serial {display: flex;flex-direction: column;align-items: center;background-color: white;padding-right: 0.2em;padding-left: 0.2em;position: relative;}#sk-container-id-1 div.sk-item {position: relative;z-index: 1;}#sk-container-id-1 div.sk-parallel {display: flex;align-items: stretch;justify-content: center;background-color: white;position: relative;}#sk-container-id-1 div.sk-item::before, #sk-container-id-1 div.sk-parallel-item::before {content: \"\";position: absolute;border-left: 1px solid gray;box-sizing: border-box;top: 0;bottom: 0;left: 50%;z-index: -1;}#sk-container-id-1 div.sk-parallel-item {display: flex;flex-direction: column;z-index: 1;position: relative;background-color: white;}#sk-container-id-1 div.sk-parallel-item:first-child::after {align-self: flex-end;width: 50%;}#sk-container-id-1 div.sk-parallel-item:last-child::after {align-self: flex-start;width: 50%;}#sk-container-id-1 div.sk-parallel-item:only-child::after {width: 0;}#sk-container-id-1 div.sk-dashed-wrapped {border: 1px dashed gray;margin: 0 0.4em 0.5em 0.4em;box-sizing: border-box;padding-bottom: 0.4em;background-color: white;}#sk-container-id-1 div.sk-label label {font-family: monospace;font-weight: bold;display: inline-block;line-height: 1.2em;}#sk-container-id-1 div.sk-label-container {text-align: center;}#sk-container-id-1 div.sk-container {/* jupyter's `normalize.less` sets `[hidden] { display: none; }` but bootstrap.min.css set `[hidden] { display: none !important; }` so we also need the `!important` here to be able to override the default hidden behavior on the sphinx rendered scikit-learn.org. See: https://github.com/scikit-learn/scikit-learn/issues/21755 */display: inline-block !important;position: relative;}#sk-container-id-1 div.sk-text-repr-fallback {display: none;}</style><div id=\"sk-container-id-1\" class=\"sk-top-container\"><div class=\"sk-text-repr-fallback\"><pre>RandomForestClassifier(random_state=42)</pre><b>In a Jupyter environment, please rerun this cell to show the HTML representation or trust the notebook. <br />On GitHub, the HTML representation is unable to render, please try loading this page with nbviewer.org.</b></div><div class=\"sk-container\" hidden><div class=\"sk-item\"><div class=\"sk-estimator sk-toggleable\"><input class=\"sk-toggleable__control sk-hidden--visually\" id=\"sk-estimator-id-1\" type=\"checkbox\" checked><label for=\"sk-estimator-id-1\" class=\"sk-toggleable__label sk-toggleable__label-arrow\">RandomForestClassifier</label><div class=\"sk-toggleable__content\"><pre>RandomForestClassifier(random_state=42)</pre></div></div></div></div></div>"
      ],
      "text/plain": [
       "RandomForestClassifier(random_state=42)"
      ]
     },
     "execution_count": 15,
     "metadata": {},
     "output_type": "execute_result"
    }
   ],
   "source": [
    "# Step 3: Model Development\n",
    "# Logistic Regression Model with scaled data\n",
    "logistic_model = LogisticRegression(solver='liblinear', max_iter=2000, random_state=42)\n",
    "logistic_model.fit(X_train_scaled, y_train)\n",
    "\n",
    "# Random Forest Model\n",
    "rf_model = RandomForestClassifier(n_estimators=100, random_state=42)\n",
    "rf_model.fit(X_train, y_train)"
   ]
  },
  {
   "cell_type": "code",
   "execution_count": 16,
   "id": "01e34e38",
   "metadata": {},
   "outputs": [
    {
     "name": "stdout",
     "output_type": "stream",
     "text": [
      "\n",
      "Logistic Regression Classification Report:\n",
      "              precision    recall  f1-score   support\n",
      "\n",
      "           0       0.99      0.91      0.95      1525\n",
      "           1       0.80      0.98      0.88       588\n",
      "\n",
      "    accuracy                           0.93      2113\n",
      "   macro avg       0.90      0.94      0.92      2113\n",
      "weighted avg       0.94      0.93      0.93      2113\n",
      "\n",
      "Logistic Regression AUC-ROC Score: 0.9911341585814654\n",
      "\n",
      "Random Forest Classification Report:\n",
      "              precision    recall  f1-score   support\n",
      "\n",
      "           0       0.99      0.99      0.99      1525\n",
      "           1       0.99      0.97      0.98       588\n",
      "\n",
      "    accuracy                           0.99      2113\n",
      "   macro avg       0.99      0.98      0.99      2113\n",
      "weighted avg       0.99      0.99      0.99      2113\n",
      "\n",
      "Random Forest AUC-ROC Score: 0.9992020742723319\n"
     ]
    }
   ],
   "source": [
    "# Step 4: Model Evaluation\n",
    "# Logistic Regression Evaluation\n",
    "logistic_preds = logistic_model.predict(X_test_scaled)\n",
    "logistic_probs = logistic_model.predict_proba(X_test_scaled)[:, 1]\n",
    "print(\"\\nLogistic Regression Classification Report:\")\n",
    "print(classification_report(y_test, logistic_preds))\n",
    "print(\"Logistic Regression AUC-ROC Score:\", roc_auc_score(y_test, logistic_probs))\n",
    "\n",
    "# Random Forest Evaluation\n",
    "rf_preds = rf_model.predict(X_test)\n",
    "rf_probs = rf_model.predict_proba(X_test)[:, 1]\n",
    "print(\"\\nRandom Forest Classification Report:\")\n",
    "print(classification_report(y_test, rf_preds))\n",
    "print(\"Random Forest AUC-ROC Score:\", roc_auc_score(y_test, rf_probs))"
   ]
  },
  {
   "cell_type": "code",
   "execution_count": 17,
   "id": "439f104f",
   "metadata": {},
   "outputs": [
    {
     "data": {
      "image/png": "[encoded data removed]",
      "text/plain": [
       "<Figure size 640x480 with 2 Axes>"
      ]
     },
     "metadata": {},
     "output_type": "display_data"
    }
   ],
   "source": [
    "# Step 5: Visualization\n",
    "# Confusion Matrix for Random Forest\n",
    "conf_matrix = confusion_matrix(y_test, rf_preds)\n",
    "sns.heatmap(conf_matrix, annot=True, fmt='d', cmap='Blues')\n",
    "plt.title('Random Forest Confusion Matrix')\n",
    "plt.xlabel('Predicted')\n",
    "plt.ylabel('Actual')\n",
    "plt.show()"
   ]
  },
  {
   "cell_type": "code",
   "execution_count": null,
   "id": "3d02154f",
   "metadata": {},
   "outputs": [],
   "source": []
  }
 ],
 "metadata": {
  "kernelspec": {
   "display_name": "Python 3 (ipykernel)",
   "language": "python",
   "name": "python3"
  },
  "language_info": {
   "codemirror_mode": {
    "name": "ipython",
    "version": 3
   },
   "file_extension": ".py",
   "mimetype": "text/x-python",
   "name": "python",
   "nbconvert_exporter": "python",
   "pygments_lexer": "ipython3",
   "version": "3.11.4"
  }
 },
 "nbformat": 4,
 "nbformat_minor": 5
}
